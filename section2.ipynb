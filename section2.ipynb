{
 "cells": [
  {
   "metadata": {},
   "cell_type": "markdown",
   "source": "# パーセプトロンの実装",
   "id": "c097b540c2c2aa53"
  },
  {
   "metadata": {
    "ExecuteTime": {
     "end_time": "2024-05-25T15:31:02.938914Z",
     "start_time": "2024-05-25T15:31:02.935311Z"
    }
   },
   "cell_type": "code",
   "source": [
    "def AND(x1, x2):\n",
    "    w1, w2, theta = 0.5, 0.5, 0.7\n",
    "    tmp = w1 * x1 + w2 * x2\n",
    "    if tmp <= theta:\n",
    "        return 0\n",
    "    else:\n",
    "        return 1"
   ],
   "id": "8790279b96ec737f",
   "outputs": [],
   "execution_count": 1
  },
  {
   "metadata": {
    "ExecuteTime": {
     "end_time": "2024-05-25T15:31:32.043Z",
     "start_time": "2024-05-25T15:31:32.040504Z"
    }
   },
   "cell_type": "code",
   "source": [
    "print(AND(0, 0))\n",
    "print(AND(0, 1))\n",
    "print(AND(1, 0))\n",
    "print(AND(1, 1))"
   ],
   "id": "a91dd61b585d33b7",
   "outputs": [
    {
     "name": "stdout",
     "output_type": "stream",
     "text": [
      "0\n",
      "0\n",
      "0\n",
      "1\n"
     ]
    }
   ],
   "execution_count": 3
  },
  {
   "metadata": {
    "ExecuteTime": {
     "end_time": "2024-05-25T15:32:33.801621Z",
     "start_time": "2024-05-25T15:32:33.642978Z"
    }
   },
   "cell_type": "code",
   "source": "import numpy as np",
   "id": "42e563b2b1b3299e",
   "outputs": [],
   "execution_count": 4
  },
  {
   "metadata": {
    "ExecuteTime": {
     "end_time": "2024-05-25T15:33:39.116332Z",
     "start_time": "2024-05-25T15:33:39.113661Z"
    }
   },
   "cell_type": "code",
   "source": [
    "x = np.array([0, 1])\n",
    "w = np.array([0.5, 0.5])\n",
    "b = -0.7\n",
    "print(w * x)"
   ],
   "id": "17e5f98364214212",
   "outputs": [
    {
     "name": "stdout",
     "output_type": "stream",
     "text": [
      "[0.  0.5]\n"
     ]
    }
   ],
   "execution_count": 5
  },
  {
   "metadata": {
    "ExecuteTime": {
     "end_time": "2024-05-25T15:34:26.649506Z",
     "start_time": "2024-05-25T15:34:26.645847Z"
    }
   },
   "cell_type": "code",
   "source": "np.sum(w * x) + b",
   "id": "e0a2609d4db422d8",
   "outputs": [
    {
     "data": {
      "text/plain": [
       "-0.19999999999999996"
      ]
     },
     "execution_count": 7,
     "metadata": {},
     "output_type": "execute_result"
    }
   ],
   "execution_count": 7
  },
  {
   "metadata": {
    "ExecuteTime": {
     "end_time": "2024-05-25T15:44:14.024531Z",
     "start_time": "2024-05-25T15:44:14.021423Z"
    }
   },
   "cell_type": "code",
   "source": [
    "def AND(x1, x2):\n",
    "    x = np.array([x1, x2])\n",
    "    w = np.array([0.5, 0.5])\n",
    "    b = -0.7\n",
    "    y = np.sum(w * x) + b\n",
    "    if y < 0:\n",
    "        return 0\n",
    "    else:\n",
    "        return 1"
   ],
   "id": "78ef3680312e09db",
   "outputs": [],
   "execution_count": 15
  },
  {
   "metadata": {
    "ExecuteTime": {
     "end_time": "2024-05-25T15:44:14.344712Z",
     "start_time": "2024-05-25T15:44:14.341268Z"
    }
   },
   "cell_type": "code",
   "source": [
    "print(AND(0, 0))\n",
    "print(AND(1, 0))\n",
    "print(AND(0, 1))\n",
    "print(AND(1, 1))"
   ],
   "id": "ebf55c8ab4e7de60",
   "outputs": [
    {
     "name": "stdout",
     "output_type": "stream",
     "text": [
      "0\n",
      "0\n",
      "0\n",
      "1\n"
     ]
    }
   ],
   "execution_count": 16
  },
  {
   "metadata": {
    "ExecuteTime": {
     "end_time": "2024-05-25T15:38:51.985085Z",
     "start_time": "2024-05-25T15:38:51.982321Z"
    }
   },
   "cell_type": "code",
   "source": [
    "def NAND(x1, x2):\n",
    "    x = np.array([x1, x2])\n",
    "    w = np.array([-0.5, -0.5])\n",
    "    b = 0.7\n",
    "    y = np.sum(w * x) + b\n",
    "    if y <= 0:\n",
    "        return 0\n",
    "    else:\n",
    "        return 1"
   ],
   "id": "fb534aed63125929",
   "outputs": [],
   "execution_count": 11
  },
  {
   "metadata": {
    "ExecuteTime": {
     "end_time": "2024-05-25T15:39:17.720985Z",
     "start_time": "2024-05-25T15:39:17.718282Z"
    }
   },
   "cell_type": "code",
   "source": [
    "print(NAND(0, 0))\n",
    "print(NAND(1, 0))\n",
    "print(NAND(0, 1))\n",
    "print(NAND(1, 1))"
   ],
   "id": "45de710e567412b4",
   "outputs": [
    {
     "name": "stdout",
     "output_type": "stream",
     "text": [
      "1\n",
      "1\n",
      "1\n",
      "0\n"
     ]
    }
   ],
   "execution_count": 12
  },
  {
   "metadata": {
    "ExecuteTime": {
     "end_time": "2024-05-25T15:40:16.881201Z",
     "start_time": "2024-05-25T15:40:16.878579Z"
    }
   },
   "cell_type": "code",
   "source": [
    "def OR(x1, x2):\n",
    "    x = np.array([x1, x2])\n",
    "    w = np.array([1, 1])\n",
    "    b = -0.5\n",
    "    tmp = np.sum(w * x) + b\n",
    "    if tmp <= 0:\n",
    "        return 0\n",
    "    else:\n",
    "        return 1"
   ],
   "id": "4fa9f2eff1ae326b",
   "outputs": [],
   "execution_count": 13
  },
  {
   "metadata": {
    "ExecuteTime": {
     "end_time": "2024-05-25T15:40:29.271275Z",
     "start_time": "2024-05-25T15:40:29.267619Z"
    }
   },
   "cell_type": "code",
   "source": [
    "print(OR(0, 0))\n",
    "print(OR(1, 0))\n",
    "print(OR(0, 1))\n",
    "print(OR(1, 1))"
   ],
   "id": "57e541f7ea9341c4",
   "outputs": [
    {
     "name": "stdout",
     "output_type": "stream",
     "text": [
      "0\n",
      "1\n",
      "1\n",
      "1\n"
     ]
    }
   ],
   "execution_count": 14
  },
  {
   "metadata": {
    "ExecuteTime": {
     "end_time": "2024-05-25T15:44:32.933800Z",
     "start_time": "2024-05-25T15:44:32.931024Z"
    }
   },
   "cell_type": "code",
   "source": [
    "def XOR(x1, x2):\n",
    "    s1 = NAND(x1, x2)\n",
    "    s2 = OR(x1, x2)\n",
    "    y = AND(s1, s2)\n",
    "    return y"
   ],
   "id": "40d9ecb707a3da",
   "outputs": [],
   "execution_count": 17
  },
  {
   "metadata": {
    "ExecuteTime": {
     "end_time": "2024-05-25T15:44:47.860414Z",
     "start_time": "2024-05-25T15:44:47.857817Z"
    }
   },
   "cell_type": "code",
   "source": [
    "print(XOR(0, 0))\n",
    "print(XOR(0, 1))\n",
    "print(XOR(1, 0))\n",
    "print(XOR(1, 1))"
   ],
   "id": "b7dad119f537a271",
   "outputs": [
    {
     "name": "stdout",
     "output_type": "stream",
     "text": [
      "0\n",
      "1\n",
      "1\n",
      "0\n"
     ]
    }
   ],
   "execution_count": 18
  },
  {
   "metadata": {},
   "cell_type": "code",
   "outputs": [],
   "execution_count": null,
   "source": "",
   "id": "82770625e8cc2f59"
  }
 ],
 "metadata": {
  "kernelspec": {
   "display_name": "Python 3",
   "language": "python",
   "name": "python3"
  },
  "language_info": {
   "codemirror_mode": {
    "name": "ipython",
    "version": 2
   },
   "file_extension": ".py",
   "mimetype": "text/x-python",
   "name": "python",
   "nbconvert_exporter": "python",
   "pygments_lexer": "ipython2",
   "version": "2.7.6"
  }
 },
 "nbformat": 4,
 "nbformat_minor": 5
}
